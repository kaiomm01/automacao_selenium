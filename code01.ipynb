{
 "cells": [
  {
   "cell_type": "code",
   "execution_count": 7,
   "metadata": {},
   "outputs": [],
   "source": [
    "from selenium import webdriver\n",
    "from webdriver_manager.chrome import ChromeDriverManager\n",
    "from selenium.webdriver.chrome.service import Service\n",
    "\n",
    "servico = Service(ChromeDriverManager().install())\n",
    "\n",
    "\n",
    "\n",
    "navegador = webdriver.Chrome(service = servico)"
   ]
  },
  {
   "cell_type": "code",
   "execution_count": 8,
   "metadata": {},
   "outputs": [],
   "source": [
    "# passo 1: Acessando um site específico\n",
    "url = 'https://pages.hashtagtreinamentos.com/inscricao-minicurso-python-automacao-org?origemurl=hashtag_yt_org_minipython_8AMNaVt0z_M'\n",
    "navegador.get(url)\n",
    "\n",
    "# Passo 2:\n",
    "# Procedimento para localizar o xpath: entre no site em questão, aperte com o botão direito do mouse e\n",
    "# então em inspecionar. Vai aparecer o html da página, sendo que no canto esquerdo, na parte superior, \n",
    "# existe uma seta, clique nela. A partir daí, quando vc percorrer o site com o mouse, vai aparecer o \n",
    "# correspondente em html. Então encontre o elemmento que vc deseja, clique nele e então, com o botão direito\n",
    "#, aperte em cima do html correspondente --> copy --> xpath\n",
    "\n",
    "# Encontrando o elemento em Html e escrevendo meu nome\n",
    "navegador.find_element('xpath', '//*[@id=\"section-10356508\"]/section/div[2]/div/div[2]/form/div[1]/div/div[1]/div/input').send_keys('Kaio')\n",
    "# com esse mesmo comando, podemos usar .click() no lugar de .send_keys()\n",
    "\n",
    "navegador.find_element('xpath', \n",
    "                       '//*[@id=\"section-10356508\"]/section/div[2]/div/div[2]/form/div[1]/div/div[2]/div/input').send_keys('kaiommartins2016@gmail.com')\n",
    "\n",
    "\n",
    "navegador.find_element('xpath', '//*[@id=\"section-10356508\"]/section/div[2]/div/div[2]/form/div[1]/div/div[3]/div/input').send_keys('91981140673')\n",
    "\n",
    "navegador.find_element('xpath', '//*[@id=\"section-10356508\"]/section/div[2]/div/div[2]/form/button/span/b').click()"
   ]
  }
 ],
 "metadata": {
  "kernelspec": {
   "display_name": "venv",
   "language": "python",
   "name": "python3"
  },
  "language_info": {
   "codemirror_mode": {
    "name": "ipython",
    "version": 3
   },
   "file_extension": ".py",
   "mimetype": "text/x-python",
   "name": "python",
   "nbconvert_exporter": "python",
   "pygments_lexer": "ipython3",
   "version": "3.9.13"
  }
 },
 "nbformat": 4,
 "nbformat_minor": 2
}
